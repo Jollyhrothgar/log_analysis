{
 "cells": [
  {
   "cell_type": "code",
   "execution_count": 28,
   "metadata": {},
   "outputs": [],
   "source": [
    "import re\n",
    "import os\n",
    "import pandas as pd"
   ]
  },
  {
   "cell_type": "markdown",
   "metadata": {},
   "source": [
    "# Parse The Authentication Log\n",
    "\n",
    "## Config"
   ]
  },
  {
   "cell_type": "code",
   "execution_count": 16,
   "metadata": {},
   "outputs": [],
   "source": [
    "log_dir = '/var/log/'"
   ]
  },
  {
   "cell_type": "code",
   "execution_count": 17,
   "metadata": {},
   "outputs": [],
   "source": [
    "log_files = [f for f in os.listdir(auth_log_dir) if os.path.isfile(os.path.join(auth_log_dir, f))]"
   ]
  },
  {
   "cell_type": "code",
   "execution_count": 18,
   "metadata": {},
   "outputs": [],
   "source": [
    "auth_log_files = [os.path.join(log_dir,f) for f in log_files if f.startswith('auth')]"
   ]
  },
  {
   "cell_type": "code",
   "execution_count": 92,
   "metadata": {},
   "outputs": [],
   "source": [
    "log_lines = []\n",
    "# performs the first level match, extracting the date, user, process id and message.\n",
    "l1_match = re.compile('([A-Z][a-z][a-z]\\s+\\d{2}\\s+\\d{2}:\\d{2}:\\d{2})\\s+(\\S+)\\s+(\\S+)\\[(\\d+)\\]:\\s+(.*)')\n",
    "l2_match = re.compile('([A-Z][a-z][a-z]\\s+\\d{2}\\s+\\d{2}:\\d{2}:\\d{2})\\s+(\\S+)\\s+(\\S+):\\s+(.*)')\n",
    "for f in auth_log_files:\n",
    "    with open(f) as log:\n",
    "        for line in log.readlines():\n",
    "            matches = l1_match.match(line)\n",
    "            try:\n",
    "                log_message = {\n",
    "                        'full_log':matches[0],\n",
    "                        'date_str':matches[1],\n",
    "                        'hostname':matches[2],\n",
    "                        'logger':matches[3],\n",
    "                        'logger_pid':matches[4],\n",
    "                        'message':matches[5]\n",
    "                    }\n",
    "            except TypeError: # Incorrect number of matches\n",
    "#                 print(e)\n",
    "                matches = l2_match.match(line)\n",
    "                try:\n",
    "                    log_message = {\n",
    "                        'full_log':matches[0],\n",
    "                        'date_str':matches[1],\n",
    "                        'hostname':matches[2],\n",
    "                        'logger':matches[3],\n",
    "                        'message':matches[4],\n",
    "                        'logger_pid':None\n",
    "                    }\n",
    "                except Exception as e:\n",
    "                    print(e)\n",
    "                    print(line)"
   ]
  },
  {
   "cell_type": "code",
   "execution_count": 93,
   "metadata": {},
   "outputs": [],
   "source": [
    "logs = pd.DataFrame(log_lines)"
   ]
  },
  {
   "cell_type": "code",
   "execution_count": 98,
   "metadata": {},
   "outputs": [
    {
     "data": {
      "text/plain": [
       "0        pam_unix(cron:session): session opened for use...\n",
       "1        pam_unix(cron:session): session closed for use...\n",
       "2        pam_unix(cron:session): session opened for use...\n",
       "3        pam_unix(cron:session): session closed for use...\n",
       "7            pam_unix(sshd:auth): check pass; user unknown\n",
       "8        pam_unix(sshd:auth): authentication failure; l...\n",
       "19       pam_unix(cron:session): session opened for use...\n",
       "20       pam_unix(cron:session): session closed for use...\n",
       "21       pam_unix(cron:session): session opened for use...\n",
       "22       pam_unix(cron:session): session closed for use...\n",
       "23       pam_unix(cron:session): session opened for use...\n",
       "24       pam_unix(cron:session): session closed for use...\n",
       "25       pam_unix(cron:session): session opened for use...\n",
       "26       pam_unix(cron:session): session closed for use...\n",
       "28       pam_unix(sshd:auth): authentication failure; l...\n",
       "34       pam_unix(sshd:auth): authentication failure; l...\n",
       "40       pam_unix(sshd:auth): authentication failure; l...\n",
       "46       pam_unix(cron:session): session opened for use...\n",
       "47       pam_unix(cron:session): session closed for use...\n",
       "48       pam_unix(sshd:auth): authentication failure; l...\n",
       "54       pam_unix(sshd:auth): authentication failure; l...\n",
       "61       pam_unix(sshd:auth): authentication failure; l...\n",
       "67       pam_unix(sshd:auth): authentication failure; l...\n",
       "73       pam_unix(sshd:auth): authentication failure; l...\n",
       "79       pam_unix(sshd:auth): authentication failure; l...\n",
       "85       pam_unix(sshd:auth): authentication failure; l...\n",
       "91       pam_unix(sshd:auth): authentication failure; l...\n",
       "97       pam_unix(sshd:auth): authentication failure; l...\n",
       "103      pam_unix(sshd:auth): authentication failure; l...\n",
       "109      pam_unix(sshd:auth): authentication failure; l...\n",
       "                               ...                        \n",
       "26659    pam_unix(gdm-launch-environment:session): sess...\n",
       "26660    pam_unix(systemd-user:session): session opened...\n",
       "26663    pam_unix(gdm-password:session): session opened...\n",
       "26665    pam_unix(systemd-user:session): session opened...\n",
       "26672    pam_unix(sudo:session): session opened for use...\n",
       "26673    pam_unix(sudo:session): session closed for use...\n",
       "26675    pam_unix(sudo:session): session opened for use...\n",
       "26676    pam_unix(sudo:session): session closed for use...\n",
       "26678    pam_unix(sudo:session): session opened for use...\n",
       "26681    pam_unix(sudo:session): session closed for use...\n",
       "26687    pam_unix(sshd:auth): authentication failure; l...\n",
       "26690    pam_unix(cron:session): session opened for use...\n",
       "26691    pam_unix(cron:session): session closed for use...\n",
       "26693    pam_unix(cron:session): session opened for use...\n",
       "26694    pam_unix(cron:session): session closed for use...\n",
       "26697    pam_unix(cron:session): session opened for use...\n",
       "26698    pam_unix(cron:session): session closed for use...\n",
       "26704    pam_unix(cron:session): session opened for use...\n",
       "26705    pam_unix(cron:session): session closed for use...\n",
       "26710    pam_unix(sshd:auth): authentication failure; l...\n",
       "26714    pam_unix(cron:session): session opened for use...\n",
       "26715    pam_unix(cron:session): session closed for use...\n",
       "26716    pam_unix(cron:session): session opened for use...\n",
       "26717    pam_unix(cron:session): session closed for use...\n",
       "26718    pam_unix(cron:session): session opened for use...\n",
       "26719    pam_unix(cron:session): session closed for use...\n",
       "26720    pam_unix(cron:session): session opened for use...\n",
       "26721    pam_unix(cron:session): session closed for use...\n",
       "26722    pam_unix(cron:session): session opened for use...\n",
       "26723    pam_unix(cron:session): session closed for use...\n",
       "Name: message, Length: 6729, dtype: object"
      ]
     },
     "execution_count": 98,
     "metadata": {},
     "output_type": "execute_result"
    }
   ],
   "source": [
    "logs[logs['message'].str.startswith('pam_unix')]['message']"
   ]
  },
  {
   "cell_type": "code",
   "execution_count": null,
   "metadata": {},
   "outputs": [],
   "source": []
  }
 ],
 "metadata": {
  "kernelspec": {
   "display_name": "Python 3",
   "language": "python",
   "name": "python3"
  },
  "language_info": {
   "codemirror_mode": {
    "name": "ipython",
    "version": 3
   },
   "file_extension": ".py",
   "mimetype": "text/x-python",
   "name": "python",
   "nbconvert_exporter": "python",
   "pygments_lexer": "ipython3",
   "version": "3.6.3"
  }
 },
 "nbformat": 4,
 "nbformat_minor": 4
}
